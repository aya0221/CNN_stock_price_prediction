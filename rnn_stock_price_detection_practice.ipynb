{
 "cells": [
  {
   "cell_type": "code",
   "execution_count": 1,
   "metadata": {},
   "outputs": [],
   "source": [
    "#stock price detection(regression)-RNN(Recurent Nural Network)\n",
    "#1st-4th layout: relu\n",
    "#output layout: sigmoid"
   ]
  },
  {
   "cell_type": "code",
   "execution_count": 2,
   "metadata": {},
   "outputs": [],
   "source": [
    "#import libraries\n",
    "import numpy as np\n",
    "import matplotlib.pyplot as plt\n",
    "import pandas as pd"
   ]
  },
  {
   "cell_type": "code",
   "execution_count": 3,
   "metadata": {},
   "outputs": [],
   "source": [
    "#------data processing"
   ]
  },
  {
   "cell_type": "code",
   "execution_count": 4,
   "metadata": {},
   "outputs": [],
   "source": [
    "#importing the trainig_set data\n",
    "#1. read the traing_set data\n",
    "dataset_train = pd.read_csv('Google_Stock_price_train.csv')\n",
    "#2. select the necessary colum and make np array(.value)\n",
    "train_set = dataset_train.iloc[:, 1:2].values"
   ]
  },
  {
   "cell_type": "code",
   "execution_count": 5,
   "metadata": {},
   "outputs": [],
   "source": [
    "#feature scaling(MinMaxScaler):transform and normarize the data to 0-1\n",
    "from sklearn.preprocessing import MinMaxScaler\n",
    "sc = MinMaxScaler(feature_range = (0, 1))\n",
    "training_set_scaled = sc.fit_transform(train_set)"
   ]
  },
  {
   "cell_type": "code",
   "execution_count": 6,
   "metadata": {},
   "outputs": [],
   "source": [
    "#decide the time_step(how many data and 1 output)\n",
    "X_train = []\n",
    "y_train = []\n",
    "for i in range(60, 1258):\n",
    "    X_train.append(training_set_scaled[i-60:i, 0])\n",
    "    y_train.append(training_set_scaled[i, 0])\n",
    "#make them np array\n",
    "X_train, y_train = np.array(X_train), np.array(y_train)"
   ]
  },
  {
   "cell_type": "code",
   "execution_count": 7,
   "metadata": {},
   "outputs": [],
   "source": [
    "#reshaping \n",
    "#make X_train to 3D. x/y/z\n",
    "X_train = np.reshape(X_train, (X_train.shape[0], X_train.shape[1], 1))"
   ]
  },
  {
   "cell_type": "code",
   "execution_count": 8,
   "metadata": {},
   "outputs": [],
   "source": [
    "#------building model(RNN)"
   ]
  },
  {
   "cell_type": "code",
   "execution_count": 9,
   "metadata": {},
   "outputs": [],
   "source": [
    "#import Keras libraries/packages\n",
    "from keras.models import Sequential\n",
    "from keras.layers import Dense\n",
    "from keras.layers import LSTM\n",
    "from keras.layers import Dropout"
   ]
  },
  {
   "cell_type": "code",
   "execution_count": 10,
   "metadata": {},
   "outputs": [],
   "source": [
    "#initialize the model(RNN) \n",
    "regressor = Sequential()"
   ]
  },
  {
   "cell_type": "code",
   "execution_count": 11,
   "metadata": {},
   "outputs": [],
   "source": [
    "#1st LSTM layer + dropout layer\n",
    "regressor.add(LSTM(units = 50, return_sequences = True, input_shape = (X_train.shape[1], 1)))\n",
    "regressor.add(Dropout(0.2))"
   ]
  },
  {
   "cell_type": "code",
   "execution_count": 12,
   "metadata": {},
   "outputs": [],
   "source": [
    "#2nd LSTM layer + dropout layer\n",
    "regressor.add(LSTM(units = 50, return_sequences = True))\n",
    "regressor.add(Dropout(0.2))"
   ]
  },
  {
   "cell_type": "code",
   "execution_count": 13,
   "metadata": {},
   "outputs": [],
   "source": [
    "#3rd LSTM layer + dropout layer \n",
    "regressor.add(LSTM(units = 50, return_sequences = True))\n",
    "regressor.add(Dropout(0.2))"
   ]
  },
  {
   "cell_type": "code",
   "execution_count": 14,
   "metadata": {},
   "outputs": [],
   "source": [
    "#4th LSTM layer  + dropout layer\n",
    "regressor.add(LSTM(units = 50))\n",
    "regressor.add(Dropout(0.2))"
   ]
  },
  {
   "cell_type": "code",
   "execution_count": 15,
   "metadata": {},
   "outputs": [],
   "source": [
    "#output layer \n",
    "regressor.add(Dense(units = 1))"
   ]
  },
  {
   "cell_type": "code",
   "execution_count": 16,
   "metadata": {},
   "outputs": [],
   "source": [
    "#------training model(RNN)"
   ]
  },
  {
   "cell_type": "code",
   "execution_count": 17,
   "metadata": {},
   "outputs": [],
   "source": [
    "#compiling RNN(optimizer, loss)\n",
    "regressor.compile(optimizer = 'adam', loss = 'mean_squared_error')"
   ]
  },
  {
   "cell_type": "code",
   "execution_count": 18,
   "metadata": {},
   "outputs": [
    {
     "name": "stdout",
     "output_type": "stream",
     "text": [
      "Epoch 1/100\n",
      "38/38 [==============================] - 8s 206ms/step - loss: 0.0443\n",
      "Epoch 2/100\n",
      "38/38 [==============================] - 7s 173ms/step - loss: 0.0061\n",
      "Epoch 3/100\n",
      "38/38 [==============================] - 6s 167ms/step - loss: 0.0055\n",
      "Epoch 4/100\n",
      "38/38 [==============================] - 7s 172ms/step - loss: 0.0055\n",
      "Epoch 5/100\n",
      "38/38 [==============================] - 6s 161ms/step - loss: 0.0054\n",
      "Epoch 6/100\n",
      "38/38 [==============================] - 6s 160ms/step - loss: 0.0044\n",
      "Epoch 7/100\n",
      "38/38 [==============================] - 6s 160ms/step - loss: 0.0048\n",
      "Epoch 8/100\n",
      "38/38 [==============================] - 6s 159ms/step - loss: 0.0043\n",
      "Epoch 9/100\n",
      "38/38 [==============================] - 6s 167ms/step - loss: 0.0042\n",
      "Epoch 10/100\n",
      "38/38 [==============================] - 6s 157ms/step - loss: 0.0047\n",
      "Epoch 11/100\n",
      "38/38 [==============================] - 6s 155ms/step - loss: 0.0045\n",
      "Epoch 12/100\n",
      "38/38 [==============================] - 6s 154ms/step - loss: 0.0043\n",
      "Epoch 13/100\n",
      "38/38 [==============================] - 6s 155ms/step - loss: 0.0044\n",
      "Epoch 14/100\n",
      "38/38 [==============================] - 6s 155ms/step - loss: 0.0042\n",
      "Epoch 15/100\n",
      "38/38 [==============================] - 6s 157ms/step - loss: 0.0037\n",
      "Epoch 16/100\n",
      "38/38 [==============================] - 6s 155ms/step - loss: 0.0047\n",
      "Epoch 17/100\n",
      "38/38 [==============================] - 6s 153ms/step - loss: 0.0038\n",
      "Epoch 18/100\n",
      "38/38 [==============================] - 6s 152ms/step - loss: 0.0040\n",
      "Epoch 19/100\n",
      "38/38 [==============================] - 6s 150ms/step - loss: 0.0037\n",
      "Epoch 20/100\n",
      "38/38 [==============================] - 6s 151ms/step - loss: 0.0040\n",
      "Epoch 21/100\n",
      "38/38 [==============================] - 6s 153ms/step - loss: 0.0038\n",
      "Epoch 22/100\n",
      "38/38 [==============================] - 6s 153ms/step - loss: 0.0036\n",
      "Epoch 23/100\n",
      "38/38 [==============================] - 6s 168ms/step - loss: 0.0033\n",
      "Epoch 24/100\n",
      "38/38 [==============================] - 6s 163ms/step - loss: 0.0033\n",
      "Epoch 25/100\n",
      "38/38 [==============================] - 7s 186ms/step - loss: 0.0035\n",
      "Epoch 26/100\n",
      "38/38 [==============================] - 9s 226ms/step - loss: 0.0031\n",
      "Epoch 27/100\n",
      "38/38 [==============================] - 6s 166ms/step - loss: 0.0035\n",
      "Epoch 28/100\n",
      "38/38 [==============================] - 10s 255ms/step - loss: 0.0030\n",
      "Epoch 29/100\n",
      "38/38 [==============================] - 14s 369ms/step - loss: 0.0029\n",
      "Epoch 30/100\n",
      "38/38 [==============================] - 16s 414ms/step - loss: 0.0031\n",
      "Epoch 31/100\n",
      "38/38 [==============================] - 9s 249ms/step - loss: 0.0030\n",
      "Epoch 32/100\n",
      "38/38 [==============================] - 7s 193ms/step - loss: 0.0029\n",
      "Epoch 33/100\n",
      "38/38 [==============================] - 8s 212ms/step - loss: 0.0030\n",
      "Epoch 34/100\n",
      "38/38 [==============================] - 6s 162ms/step - loss: 0.0027\n",
      "Epoch 35/100\n",
      "38/38 [==============================] - 6s 160ms/step - loss: 0.0029\n",
      "Epoch 36/100\n",
      "38/38 [==============================] - 6s 159ms/step - loss: 0.0028\n",
      "Epoch 37/100\n",
      "38/38 [==============================] - 7s 177ms/step - loss: 0.0028\n",
      "Epoch 38/100\n",
      "38/38 [==============================] - 7s 179ms/step - loss: 0.0025\n",
      "Epoch 39/100\n",
      "38/38 [==============================] - 7s 182ms/step - loss: 0.0026\n",
      "Epoch 40/100\n",
      "38/38 [==============================] - 7s 172ms/step - loss: 0.0026\n",
      "Epoch 41/100\n",
      "38/38 [==============================] - 7s 192ms/step - loss: 0.0029\n",
      "Epoch 42/100\n",
      "38/38 [==============================] - 7s 189ms/step - loss: 0.0026\n",
      "Epoch 43/100\n",
      "38/38 [==============================] - 7s 194ms/step - loss: 0.0031\n",
      "Epoch 44/100\n",
      "38/38 [==============================] - 6s 170ms/step - loss: 0.0025\n",
      "Epoch 45/100\n",
      "38/38 [==============================] - 6s 155ms/step - loss: 0.0026\n",
      "Epoch 46/100\n",
      "38/38 [==============================] - 6s 153ms/step - loss: 0.0026\n",
      "Epoch 47/100\n",
      "38/38 [==============================] - 6s 154ms/step - loss: 0.0021\n",
      "Epoch 48/100\n",
      "38/38 [==============================] - 6s 157ms/step - loss: 0.0024\n",
      "Epoch 49/100\n",
      "38/38 [==============================] - 6s 146ms/step - loss: 0.0024\n",
      "Epoch 50/100\n",
      "38/38 [==============================] - 6s 158ms/step - loss: 0.0025\n",
      "Epoch 51/100\n",
      "38/38 [==============================] - 5s 144ms/step - loss: 0.0027\n",
      "Epoch 52/100\n",
      "38/38 [==============================] - 7s 172ms/step - loss: 0.0023\n",
      "Epoch 53/100\n",
      "38/38 [==============================] - 6s 164ms/step - loss: 0.0026\n",
      "Epoch 54/100\n",
      "38/38 [==============================] - 6s 153ms/step - loss: 0.0023\n",
      "Epoch 55/100\n",
      "38/38 [==============================] - 6s 153ms/step - loss: 0.0024\n",
      "Epoch 56/100\n",
      "38/38 [==============================] - 5s 144ms/step - loss: 0.0021\n",
      "Epoch 57/100\n",
      "38/38 [==============================] - 5s 142ms/step - loss: 0.0021\n",
      "Epoch 58/100\n",
      "38/38 [==============================] - 7s 176ms/step - loss: 0.0023\n",
      "Epoch 59/100\n",
      "38/38 [==============================] - 5s 140ms/step - loss: 0.0026\n",
      "Epoch 60/100\n",
      "38/38 [==============================] - 6s 148ms/step - loss: 0.0021\n",
      "Epoch 61/100\n",
      "38/38 [==============================] - 6s 154ms/step - loss: 0.0020\n",
      "Epoch 62/100\n",
      "38/38 [==============================] - 6s 156ms/step - loss: 0.0020\n",
      "Epoch 63/100\n",
      "38/38 [==============================] - 6s 154ms/step - loss: 0.0020\n",
      "Epoch 64/100\n",
      "38/38 [==============================] - 5s 143ms/step - loss: 0.0021\n",
      "Epoch 65/100\n",
      "38/38 [==============================] - 5s 143ms/step - loss: 0.0018\n",
      "Epoch 66/100\n",
      "38/38 [==============================] - 6s 146ms/step - loss: 0.0021\n",
      "Epoch 67/100\n",
      "38/38 [==============================] - 5s 140ms/step - loss: 0.0019\n",
      "Epoch 68/100\n",
      "38/38 [==============================] - 6s 151ms/step - loss: 0.0022\n",
      "Epoch 69/100\n",
      "38/38 [==============================] - 5s 137ms/step - loss: 0.0021\n",
      "Epoch 70/100\n",
      "38/38 [==============================] - 5s 139ms/step - loss: 0.0019\n",
      "Epoch 71/100\n",
      "38/38 [==============================] - 5s 136ms/step - loss: 0.0019\n",
      "Epoch 72/100\n",
      "38/38 [==============================] - 6s 146ms/step - loss: 0.0019\n",
      "Epoch 73/100\n",
      "38/38 [==============================] - 5s 134ms/step - loss: 0.0020\n",
      "Epoch 74/100\n",
      "38/38 [==============================] - 5s 135ms/step - loss: 0.0020\n",
      "Epoch 75/100\n",
      "38/38 [==============================] - 5s 134ms/step - loss: 0.0017\n",
      "Epoch 76/100\n",
      "38/38 [==============================] - 9s 232ms/step - loss: 0.0018\n",
      "Epoch 77/100\n",
      "38/38 [==============================] - 10s 273ms/step - loss: 0.0017\n",
      "Epoch 78/100\n",
      "38/38 [==============================] - 14s 358ms/step - loss: 0.0017\n",
      "Epoch 79/100\n",
      "38/38 [==============================] - 11s 296ms/step - loss: 0.0019\n",
      "Epoch 80/100\n",
      "38/38 [==============================] - 10s 255ms/step - loss: 0.0018\n",
      "Epoch 81/100\n",
      "38/38 [==============================] - 9s 225ms/step - loss: 0.0018\n",
      "Epoch 82/100\n",
      "38/38 [==============================] - 7s 196ms/step - loss: 0.0018\n",
      "Epoch 83/100\n",
      "38/38 [==============================] - 6s 157ms/step - loss: 0.0018\n",
      "Epoch 84/100\n",
      "38/38 [==============================] - 7s 177ms/step - loss: 0.0018\n",
      "Epoch 85/100\n",
      "38/38 [==============================] - 7s 182ms/step - loss: 0.0015\n",
      "Epoch 86/100\n",
      "38/38 [==============================] - 6s 166ms/step - loss: 0.0016\n",
      "Epoch 87/100\n",
      "38/38 [==============================] - 7s 190ms/step - loss: 0.0016\n",
      "Epoch 88/100\n",
      "38/38 [==============================] - 14s 366ms/step - loss: 0.0018\n",
      "Epoch 89/100\n",
      "38/38 [==============================] - 16s 417ms/step - loss: 0.0017\n",
      "Epoch 90/100\n",
      "38/38 [==============================] - 16s 422ms/step - loss: 0.0017\n",
      "Epoch 91/100\n",
      "38/38 [==============================] - 14s 357ms/step - loss: 0.0017\n",
      "Epoch 92/100\n",
      "38/38 [==============================] - 15s 389ms/step - loss: 0.0016\n",
      "Epoch 93/100\n",
      "38/38 [==============================] - 14s 380ms/step - loss: 0.0015\n",
      "Epoch 94/100\n",
      "38/38 [==============================] - 9s 238ms/step - loss: 0.0015\n",
      "Epoch 95/100\n",
      "38/38 [==============================] - 8s 210ms/step - loss: 0.0016\n",
      "Epoch 96/100\n",
      "38/38 [==============================] - 7s 188ms/step - loss: 0.0017\n",
      "Epoch 97/100\n",
      "38/38 [==============================] - 7s 194ms/step - loss: 0.0015\n",
      "Epoch 98/100\n",
      "38/38 [==============================] - 7s 194ms/step - loss: 0.0015\n",
      "Epoch 99/100\n"
     ]
    },
    {
     "name": "stdout",
     "output_type": "stream",
     "text": [
      "38/38 [==============================] - 7s 177ms/step - loss: 0.0016\n",
      "Epoch 100/100\n",
      "38/38 [==============================] - 9s 225ms/step - loss: 0.0014\n"
     ]
    },
    {
     "data": {
      "text/plain": [
       "<tensorflow.python.keras.callbacks.History at 0x7fc1b67aa2e0>"
      ]
     },
     "execution_count": 18,
     "metadata": {},
     "output_type": "execute_result"
    }
   ],
   "source": [
    "#fit RNN to training(x/y_train, epocs, batch_sizes)\n",
    "regressor.fit(X_train, y_train, epochs = 100, batch_size = 32)"
   ]
  },
  {
   "cell_type": "code",
   "execution_count": 19,
   "metadata": {},
   "outputs": [],
   "source": [
    "#------make the prediction"
   ]
  },
  {
   "cell_type": "code",
   "execution_count": 20,
   "metadata": {},
   "outputs": [],
   "source": [
    "#get the ground truth(real stock price)\n",
    "dataset_test = pd.read_csv('Google_Stock_Price_Test.csv')\n",
    "real_stock_price = dataset_test.iloc[:,1:2].values"
   ]
  },
  {
   "cell_type": "code",
   "execution_count": 21,
   "metadata": {},
   "outputs": [],
   "source": [
    "#predict the y_test()\n",
    "dataset_total = pd.concat((dataset_train['Open'], dataset_test['Open']), axis = 0)\n",
    "inputs = dataset_total[len(dataset_total) - len(dataset_test) - 60:].values\n",
    "inputs = inputs.reshape(-1, 1)\n",
    "inputs = sc.transform(inputs)\n",
    "X_test = []\n",
    "for i in range(60, 80):\n",
    "    X_test.append(inputs[i-60:i, 0])\n",
    "X_test = np.array(X_test)\n",
    "X_test = np.reshape(X_test, (X_test.shape[0], X_test.shape[1], 1))\n",
    "predicted_stock_price = regressor.predict(X_test)\n",
    "predicted_stock_price = sc.inverse_transform(predicted_stock_price)"
   ]
  },
  {
   "cell_type": "code",
   "execution_count": 22,
   "metadata": {},
   "outputs": [
    {
     "data": {
      "image/png": "[encoded data removed]",
      "text/plain": [
       "<Figure size 432x288 with 1 Axes>"
      ]
     },
     "metadata": {
      "needs_background": "light"
     },
     "output_type": "display_data"
    }
   ],
   "source": [
    "#------visualizing the result\n",
    "plt.plot(real_stock_price, color = 'red', label = 'Real Google Stock Price')\n",
    "plt.plot(predicted_stock_price, color = 'blue', label = 'Predicted Google Stock Price')\n",
    "plt.title('Google Stock Price Prediction')\n",
    "plt.xlabel('Time')\n",
    "plt.ylabel('Google Stock Price')\n",
    "plt.legend\n",
    "plt.show()"
   ]
  },
  {
   "cell_type": "code",
   "execution_count": null,
   "metadata": {},
   "outputs": [],
   "source": []
  }
 ],
 "metadata": {
  "kernelspec": {
   "display_name": "Python 3",
   "language": "python",
   "name": "python3"
  },
  "language_info": {
   "codemirror_mode": {
    "name": "ipython",
    "version": 3
   },
   "file_extension": ".py",
   "mimetype": "text/x-python",
   "name": "python",
   "nbconvert_exporter": "python",
   "pygments_lexer": "ipython3",
   "version": "3.8.3"
  }
 },
 "nbformat": 4,
 "nbformat_minor": 4
}
